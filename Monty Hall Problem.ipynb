{
 "cells": [
  {
   "cell_type": "code",
   "execution_count": 6,
   "metadata": {
    "collapsed": true
   },
   "outputs": [],
   "source": [
    "import numpy as np"
   ]
  },
  {
   "cell_type": "code",
   "execution_count": 7,
   "metadata": {
    "collapsed": true
   },
   "outputs": [],
   "source": [
    "# Function simulate_prizedoor. This function will simulate the location of the prize in many games\n",
    "\n",
    "def simulate_prizedoor(nsim):\n",
    "    return np.random.randint(0,3,(nsim))"
   ]
  },
  {
   "cell_type": "code",
   "execution_count": 8,
   "metadata": {
    "collapsed": false
   },
   "outputs": [
    {
     "name": "stdout",
     "output_type": "stream",
     "text": [
      "[0 0 0]\n"
     ]
    }
   ],
   "source": [
    "print(simulate_prizedoor(3))"
   ]
  },
  {
   "cell_type": "code",
   "execution_count": 9,
   "metadata": {
    "collapsed": true
   },
   "outputs": [],
   "source": [
    "# Function that simulates the contestant's guesses for nsim simulations. Call this function simulate_guess\n",
    "\n",
    "def simulate_guess(nsim):\n",
    "    return np.zeros(nsim, dtype=np.int)"
   ]
  },
  {
   "cell_type": "code",
   "execution_count": 10,
   "metadata": {
    "collapsed": true
   },
   "outputs": [],
   "source": [
    "# Function, goat_door, to sumulate randomly revealing one of the goat doors that a contest didn't pick\n",
    "\n",
    "def goat_door(prizedoors,guesses):\n",
    "    result=np.random.randint(0,3,prizedoors.size)\n",
    "    while True:\n",
    "        bad=(result==prizedoors)|(result==guesses)\n",
    "        if not bad.any():\n",
    "            return result\n",
    "        result[bad]=np.random.randint(0,3,bad.sum())"
   ]
  },
  {
   "cell_type": "code",
   "execution_count": 11,
   "metadata": {
    "collapsed": false
   },
   "outputs": [],
   "source": [
    "# a function, switch_guess, that represents the stratgy of always switching a guess after the goat door is opened.\n",
    "\n",
    "def switch_guess(guesses,goatdoors):\n",
    "    result=np.zeros(guesses.size)\n",
    "    switch={(0,1):2,(0,2):1,(1,0):2,(1,2):0,(2,0):1,(2,1):0}\n",
    "    for i in [0,1,2]:\n",
    "        for j in [0,1,2]:\n",
    "            mask=(guesses==i)&(goatdoors==j)\n",
    "            if not mask.any():\n",
    "                continue\n",
    "            result=np.where(mask,np.ones_like(result)*switch[(i,j)], result)\n",
    "        return result"
   ]
  },
  {
   "cell_type": "code",
   "execution_count": 12,
   "metadata": {
    "collapsed": true
   },
   "outputs": [],
   "source": [
    "# last function, a win_percentage function that takes an arry of guesses and prizedoors, and returns the percent of correct guesses\n",
    "\n",
    "def win_percentage(guesses,prizedoors):\n",
    "    return 100*(guesses==prizedoors).mean()"
   ]
  },
  {
   "cell_type": "code",
   "execution_count": 22,
   "metadata": {
    "collapsed": false
   },
   "outputs": [
    {
     "name": "stdout",
     "output_type": "stream",
     "text": [
      "Win percentage when keeping original door\n",
      "32.86\n",
      "Win percentage when switching dorrs\n",
      "66.85\n"
     ]
    }
   ],
   "source": [
    "# Put it together  Simulate 10000 games where contestant keeps his original guess, and 1000 games where the contestant witches his dor after a goa door is revealed. COmput the percentage of time the contestant wins under either strategy. IS ome srategy better thean the othet?\n",
    "\n",
    "nsim = 10000\n",
    "\n",
    "#keep guesses\n",
    "print(\"Win percentage when keeping original door\")\n",
    "print(win_percentage(simulate_prizedoor(nsim), simulate_guess(nsim)))\n",
    "\n",
    "# switch \n",
    "pd = simulate_prizedoor(nsim)\n",
    "guess = simulate_guess(nsim)\n",
    "goats = goat_door(pd, guess)\n",
    "guess = switch_guess(guess, goats)\n",
    "print(\"Win percentage when switching dorrs\")\n",
    "print(win_percentage(pd, guess).mean())"
   ]
  },
  {
   "cell_type": "code",
   "execution_count": null,
   "metadata": {
    "collapsed": true
   },
   "outputs": [],
   "source": []
  },
  {
   "cell_type": "code",
   "execution_count": null,
   "metadata": {
    "collapsed": true
   },
   "outputs": [],
   "source": []
  },
  {
   "cell_type": "code",
   "execution_count": null,
   "metadata": {
    "collapsed": true
   },
   "outputs": [],
   "source": []
  },
  {
   "cell_type": "code",
   "execution_count": null,
   "metadata": {
    "collapsed": true
   },
   "outputs": [],
   "source": []
  }
 ],
 "metadata": {
  "kernelspec": {
   "display_name": "Python 3",
   "language": "python",
   "name": "python3"
  },
  "language_info": {
   "codemirror_mode": {
    "name": "ipython",
    "version": 3
   },
   "file_extension": ".py",
   "mimetype": "text/x-python",
   "name": "python",
   "nbconvert_exporter": "python",
   "pygments_lexer": "ipython3",
   "version": "3.6.0"
  }
 },
 "nbformat": 4,
 "nbformat_minor": 2
}
